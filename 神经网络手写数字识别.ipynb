{
 "cells": [
  {
   "cell_type": "code",
   "execution_count": 8,
   "metadata": {},
   "outputs": [],
   "source": [
    "import tensorflow as tf\n",
    "import matplotlib.pyplot as plt\n",
    "from sklearn import datasets\n",
    "from sklearn.preprocessing import StandardScaler\n",
    "from sklearn.model_selection import train_test_split"
   ]
  },
  {
   "cell_type": "code",
   "execution_count": 9,
   "metadata": {},
   "outputs": [
    {
     "data": {
      "image/png": "[encoded data removed]",
      "text/plain": [
       "<Figure size 432x288 with 12 Axes>"
      ]
     },
     "metadata": {
      "needs_background": "light"
     },
     "output_type": "display_data"
    }
   ],
   "source": [
    "#显示前12张图片\n",
    "plt.figure(1)\n",
    "for i in range(12):\n",
    "    imageplot=plt.subplot(3,4,i+1)\n",
    "    plt.imshow(digits.images[i],cmap=\"binary\",vmax=16,vmin=0)\n",
    "    imageplot.set_title(\"digit %d\"%i)\n"
   ]
  },
  {
   "cell_type": "code",
   "execution_count": 5,
   "metadata": {},
   "outputs": [
    {
     "name": "stdout",
     "output_type": "stream",
     "text": [
      "Epoch 1/5\n",
      "1257/1257 [==============================] - 1s 589us/step - loss: 1.0336 - acc: 0.7653\n",
      "Epoch 2/5\n",
      "1257/1257 [==============================] - 0s 112us/step - loss: 0.2524 - acc: 0.9451\n",
      "Epoch 3/5\n",
      "1257/1257 [==============================] - 0s 107us/step - loss: 0.1425 - acc: 0.9745\n",
      "Epoch 4/5\n",
      "1257/1257 [==============================] - 0s 107us/step - loss: 0.0939 - acc: 0.9881\n",
      "Epoch 5/5\n",
      "1257/1257 [==============================] - 0s 105us/step - loss: 0.0669 - acc: 0.9944\n",
      "540/540 [==============================] - 0s 310us/step\n"
     ]
    },
    {
     "data": {
      "text/plain": [
       "[0.11356374047420643, 0.9740740749571059]"
      ]
     },
     "execution_count": 5,
     "metadata": {},
     "output_type": "execute_result"
    }
   ],
   "source": [
    "##导入数据集\n",
    "###高维问题，本例子是利用前馈神经网络做数字分类\n",
    "#数据集中有共有10种数字图片，数字分别是0-9\n",
    "#每种类别的数字大概有180张图片，总共的图片数目为1797张\n",
    "#每个样本都是一个8x8的图片，即64个像素点，像素的变化范围是0-16\n",
    "digits=datasets.load_digits()\n",
    "x,y=digits.data,digits.target\n",
    "##将x归一化，均值为0，标准差为1\n",
    "x=StandardScaler().fit_transform(x)\n",
    "##将x还原为8x8的数组类型\n",
    "x=x.reshape(1797,8,8)\n",
    "##划分训练集测试集，测试集占比为30%\n",
    "x_train,x_test,y_train,y_test=train_test_split(x,y,test_size=0.3)\n",
    "##利用keras建立神经网络结构\n",
    "model=tf.keras.models.Sequential([\n",
    "    ##将数据‘铺平’即变为一维变量\n",
    "    tf.keras.layers.Flatten(),\n",
    "    ##定义隐藏层中512个神经元，激活函数为relu\n",
    "    tf.keras.layers.Dense(512,activation=tf.nn.relu),\n",
    "    ##保留率为1-0.2=0.8\n",
    "    tf.keras.layers.Dropout(0.2),\n",
    "    ##定义输出层为10个神经元，激活函数为softmax\n",
    "    tf.keras.layers.Dense(10,activation=tf.nn.softmax)\n",
    "])\n",
    "##优化算法为adam，损失函数为稀疏的多类对数损失，评价准则为准确率\n",
    "model.compile(optimizer='adam',\n",
    "              loss='sparse_categorical_crossentropy',\n",
    "              metrics=['accuracy'])\n",
    "##模型训练，训练轮次为5次\n",
    "model.fit(x_train, y_train, epochs=5)\n",
    "##模型评估，返回测试集预测的损失函数以及准确率\n",
    "model.evaluate(x_test, y_test)"
   ]
  },
  {
   "cell_type": "code",
   "execution_count": null,
   "metadata": {},
   "outputs": [],
   "source": []
  }
 ],
 "metadata": {
  "kernelspec": {
   "display_name": "Python 3",
   "language": "python",
   "name": "python3"
  },
  "language_info": {
   "codemirror_mode": {
    "name": "ipython",
    "version": 3
   },
   "file_extension": ".py",
   "mimetype": "text/x-python",
   "name": "python",
   "nbconvert_exporter": "python",
   "pygments_lexer": "ipython3",
   "version": "3.6.6"
  }
 },
 "nbformat": 4,
 "nbformat_minor": 2
}
