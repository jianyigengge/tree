{
 "cells": [
  {
   "cell_type": "markdown",
   "metadata": {},
   "source": [
    "# 数据挖掘与实用（作业二）\n",
    "## 肖健一2018103645"
   ]
  },
  {
   "cell_type": "code",
   "execution_count": 166,
   "metadata": {},
   "outputs": [],
   "source": [
    "##导入需要的模块\n",
    "import pandas as pd\n",
    "import numpy as np\n",
    "import matplotlib.pyplot as plt\n",
    "from sklearn.feature_extraction import DictVectorizer\n",
    "from sklearn.model_selection import train_test_split\n",
    "from sklearn.tree import DecisionTreeClassifier,export_graphviz\n",
    "from sklearn import preprocessing\n",
    "from sklearn import tree"
   ]
  },
  {
   "cell_type": "markdown",
   "metadata": {},
   "source": [
    "# 1数据预处理"
   ]
  },
  {
   "cell_type": "code",
   "execution_count": 144,
   "metadata": {},
   "outputs": [],
   "source": [
    "##导入数据，数据预处理\n",
    "data=pd.read_csv('Titanic.csv')\n",
    "##平均值填充Age列缺失值\n",
    "data['Age'].fillna(data['Age'].mean(),inplace=True)\n",
    "##填充Embarked列缺失值\n",
    "data['Embarked'].fillna('S',inplace=True)\n",
    "##新生成列age_b，类别为儿童与成年\n",
    "data['age_b']=pd.cut(data.Age,[min(data.Age)-1,18,max(data.Age)+1],labels=['kid','adult'])\n",
    "x=data[['Sex','Age']]\n",
    "y=data['Survived']"
   ]
  },
  {
   "cell_type": "markdown",
   "metadata": {},
   "source": [
    "# 2描述性分析"
   ]
  },
  {
   "cell_type": "code",
   "execution_count": 146,
   "metadata": {},
   "outputs": [
    {
     "data": {
      "text/plain": [
       "<matplotlib.axes._subplots.AxesSubplot at 0x1a2160ae48>"
      ]
     },
     "execution_count": 146,
     "metadata": {},
     "output_type": "execute_result"
    },
    {
     "data": {
      "image/png": "[encoded data removed]",
      "text/plain": [
       "<Figure size 432x288 with 4 Axes>"
      ]
     },
     "metadata": {
      "needs_background": "light"
     },
     "output_type": "display_data"
    }
   ],
   "source": [
    "plt.subplot(2,2,1)\n",
    "data['Survived'].value_counts().plot(kind='bar',title='survived')\n",
    "plt.subplot(2,2,2)\n",
    "data['Sex'].value_counts().plot(kind='bar',title='sex')\n",
    "plt.subplot(2,2,3)\n",
    "data['Pclass'].value_counts().plot(kind='bar',title='pclass')\n",
    "plt.subplot(2,2,4)\n",
    "data['age_b'].value_counts().plot(kind='bar',title='age')"
   ]
  },
  {
   "cell_type": "raw",
   "metadata": {},
   "source": [
    "通过下面的列联表可以看出：\n",
    "1.女性生存几率远远大于男性\n",
    "2.儿童生存几率大于成人，不过考虑到年龄数据有很多缺失，对这一结论持保留意见\n",
    "3.船舱等级1的乘客生存率更高\n",
    "由上可以初步得出：women and children(18岁以下) first"
   ]
  },
  {
   "cell_type": "code",
   "execution_count": 148,
   "metadata": {},
   "outputs": [
    {
     "data": {
      "text/html": [
       "<div>\n",
       "<style scoped>\n",
       "    .dataframe tbody tr th:only-of-type {\n",
       "        vertical-align: middle;\n",
       "    }\n",
       "\n",
       "    .dataframe tbody tr th {\n",
       "        vertical-align: top;\n",
       "    }\n",
       "\n",
       "    .dataframe thead th {\n",
       "        text-align: right;\n",
       "    }\n",
       "</style>\n",
       "<table border=\"1\" class=\"dataframe\">\n",
       "  <thead>\n",
       "    <tr style=\"text-align: right;\">\n",
       "      <th>Sex</th>\n",
       "      <th>female</th>\n",
       "      <th>male</th>\n",
       "    </tr>\n",
       "    <tr>\n",
       "      <th>Survived</th>\n",
       "      <th></th>\n",
       "      <th></th>\n",
       "    </tr>\n",
       "  </thead>\n",
       "  <tbody>\n",
       "    <tr>\n",
       "      <th>0</th>\n",
       "      <td>81</td>\n",
       "      <td>468</td>\n",
       "    </tr>\n",
       "    <tr>\n",
       "      <th>1</th>\n",
       "      <td>233</td>\n",
       "      <td>109</td>\n",
       "    </tr>\n",
       "  </tbody>\n",
       "</table>\n",
       "</div>"
      ],
      "text/plain": [
       "Sex       female  male\n",
       "Survived              \n",
       "0             81   468\n",
       "1            233   109"
      ]
     },
     "execution_count": 148,
     "metadata": {},
     "output_type": "execute_result"
    }
   ],
   "source": [
    "##生存与性别列联表\n",
    "data.pivot_table(values='PassengerId',index='Survived',columns='Sex',aggfunc='count')"
   ]
  },
  {
   "cell_type": "code",
   "execution_count": 149,
   "metadata": {},
   "outputs": [
    {
     "data": {
      "text/html": [
       "<div>\n",
       "<style scoped>\n",
       "    .dataframe tbody tr th:only-of-type {\n",
       "        vertical-align: middle;\n",
       "    }\n",
       "\n",
       "    .dataframe tbody tr th {\n",
       "        vertical-align: top;\n",
       "    }\n",
       "\n",
       "    .dataframe thead th {\n",
       "        text-align: right;\n",
       "    }\n",
       "</style>\n",
       "<table border=\"1\" class=\"dataframe\">\n",
       "  <thead>\n",
       "    <tr style=\"text-align: right;\">\n",
       "      <th>age_b</th>\n",
       "      <th>kid</th>\n",
       "      <th>adult</th>\n",
       "    </tr>\n",
       "    <tr>\n",
       "      <th>Survived</th>\n",
       "      <th></th>\n",
       "      <th></th>\n",
       "    </tr>\n",
       "  </thead>\n",
       "  <tbody>\n",
       "    <tr>\n",
       "      <th>0</th>\n",
       "      <td>69</td>\n",
       "      <td>480</td>\n",
       "    </tr>\n",
       "    <tr>\n",
       "      <th>1</th>\n",
       "      <td>70</td>\n",
       "      <td>272</td>\n",
       "    </tr>\n",
       "  </tbody>\n",
       "</table>\n",
       "</div>"
      ],
      "text/plain": [
       "age_b     kid  adult\n",
       "Survived            \n",
       "0          69    480\n",
       "1          70    272"
      ]
     },
     "execution_count": 149,
     "metadata": {},
     "output_type": "execute_result"
    }
   ],
   "source": [
    "##生存与是否成年列联表\n",
    "data.pivot_table(values='PassengerId',index='Survived',columns='age_b',aggfunc='count')"
   ]
  },
  {
   "cell_type": "code",
   "execution_count": 150,
   "metadata": {},
   "outputs": [
    {
     "data": {
      "text/html": [
       "<div>\n",
       "<style scoped>\n",
       "    .dataframe tbody tr th:only-of-type {\n",
       "        vertical-align: middle;\n",
       "    }\n",
       "\n",
       "    .dataframe tbody tr th {\n",
       "        vertical-align: top;\n",
       "    }\n",
       "\n",
       "    .dataframe thead th {\n",
       "        text-align: right;\n",
       "    }\n",
       "</style>\n",
       "<table border=\"1\" class=\"dataframe\">\n",
       "  <thead>\n",
       "    <tr style=\"text-align: right;\">\n",
       "      <th>Pclass</th>\n",
       "      <th>1</th>\n",
       "      <th>2</th>\n",
       "      <th>3</th>\n",
       "    </tr>\n",
       "    <tr>\n",
       "      <th>Survived</th>\n",
       "      <th></th>\n",
       "      <th></th>\n",
       "      <th></th>\n",
       "    </tr>\n",
       "  </thead>\n",
       "  <tbody>\n",
       "    <tr>\n",
       "      <th>0</th>\n",
       "      <td>80</td>\n",
       "      <td>97</td>\n",
       "      <td>372</td>\n",
       "    </tr>\n",
       "    <tr>\n",
       "      <th>1</th>\n",
       "      <td>136</td>\n",
       "      <td>87</td>\n",
       "      <td>119</td>\n",
       "    </tr>\n",
       "  </tbody>\n",
       "</table>\n",
       "</div>"
      ],
      "text/plain": [
       "Pclass      1   2    3\n",
       "Survived              \n",
       "0          80  97  372\n",
       "1         136  87  119"
      ]
     },
     "execution_count": 150,
     "metadata": {},
     "output_type": "execute_result"
    }
   ],
   "source": [
    "##生存与船舱等级列联表\n",
    "data.pivot_table(values='PassengerId',index='Survived',columns='Pclass',aggfunc='count')"
   ]
  },
  {
   "cell_type": "markdown",
   "metadata": {},
   "source": [
    "# 3决策树(考虑age,sex)准确率=78%"
   ]
  },
  {
   "cell_type": "code",
   "execution_count": 228,
   "metadata": {},
   "outputs": [
    {
     "name": "stdout",
     "output_type": "stream",
     "text": [
      "预测准确率: 0.7847533632286996\n"
     ]
    },
    {
     "data": {
      "text/plain": [
       "array([1, 0, 0, 0, 1, 1, 0, 0, 0, 0, 1, 0, 1, 0, 0, 1, 0, 0, 0, 0, 0, 0,\n",
       "       0, 0, 0, 0, 1, 0, 0, 1, 0, 1, 0, 0, 0, 1, 0, 0, 0, 1, 0, 1, 0, 1,\n",
       "       1, 0, 1, 0, 0, 0, 1, 0, 0, 0, 1, 0, 0, 1, 0, 0, 1, 1, 0, 1, 0, 0,\n",
       "       1, 1, 0, 1, 0, 1, 0, 0, 0, 1, 0, 0, 0, 0, 0, 0, 1, 0, 0, 0, 0, 1,\n",
       "       1, 1, 0, 1, 1, 0, 0, 0, 0, 0, 0, 0, 0, 1, 1, 0, 1, 0, 0, 0, 0, 0,\n",
       "       1, 0, 1, 0, 0, 1, 1, 0, 1, 0, 0, 0, 0, 0, 0, 0, 0, 0, 0, 1, 0, 0,\n",
       "       1, 0, 0, 0, 0, 0, 1, 1, 0, 0, 0, 0, 0, 0, 0, 1, 0, 0, 0, 0, 1, 1,\n",
       "       1, 0, 0, 0, 1, 0, 0, 0, 0, 1, 1, 0, 1, 1, 1, 0, 0, 0, 0, 1, 1, 1,\n",
       "       0, 0, 0, 1, 0, 0, 1, 0, 0, 0, 0, 1, 0, 0, 0, 0, 1, 0, 1, 1, 0, 1,\n",
       "       1, 0, 1, 0, 1, 0, 0, 0, 1, 0, 1, 0, 1, 0, 0, 1, 1, 1, 1, 0, 0, 0,\n",
       "       1, 0, 1])"
      ]
     },
     "execution_count": 228,
     "metadata": {},
     "output_type": "execute_result"
    }
   ],
   "source": [
    "##生成只包含sex,age,survived的数据框\n",
    "x=data[['Sex','Age']]\n",
    "y=data['Survived']\n",
    "##将sex变为0-1变量\n",
    "x.loc[x['Sex']=='male','Sex']=0\n",
    "x.loc[x['Sex']=='female','Sex']=1\n",
    "##划分训练集测试集，测试集比率为25%\n",
    "x_train,x_test,y_train,y_test=train_test_split(x,y,test_size=0.25,random_state=123)\n",
    "##建立决策树模型,模型在测试集上的预测准确率达到78%\n",
    "dec=DecisionTreeClassifier()\n",
    "dec.fit(x_train,y_train)\n",
    "print('预测准确率:',dec.score(x_test,y_test))\n",
    "##同时返回模型对测试集的预测结果\n",
    "dec.predict(x_test)"
   ]
  },
  {
   "cell_type": "markdown",
   "metadata": {},
   "source": [
    "# 3.1证明sex变量的重要性"
   ]
  },
  {
   "cell_type": "code",
   "execution_count": 173,
   "metadata": {},
   "outputs": [
    {
     "data": {
      "text/plain": [
       "array([1, 1, 1, 1, 1, 1, 1, 1, 1, 1, 1, 1, 1, 1, 1, 1, 1, 1, 1, 1, 1, 1,\n",
       "       1, 1, 1, 1, 1, 1, 1, 1, 1, 1, 1, 1, 1, 1, 1, 1, 1, 1, 1, 1, 1, 1,\n",
       "       1, 1, 1, 1, 1, 1, 1, 1, 1, 1, 1, 1, 1, 1, 1, 1, 1, 1, 1, 1, 1, 1,\n",
       "       1, 1, 1, 1, 1, 1, 1, 1, 1, 1, 1, 1, 1, 1, 1, 1, 1, 1, 1, 1, 1, 1,\n",
       "       1, 1, 1, 1, 1, 1, 1, 1, 1, 1, 1, 1])"
      ]
     },
     "execution_count": 173,
     "metadata": {},
     "output_type": "execute_result"
    }
   ],
   "source": [
    "##思路：利用单个sex变量训练模型，再对全是男性与全是女性的乘客进行预测\n",
    "#生成全是男性与全是女性的数据框，观测数=100\n",
    "x_test_male=pd.DataFrame({'Sex':[0]*100})\n",
    "x_test_female=pd.DataFrame({'Sex':[1]*100})\n",
    "#单独拿出sex变量列建立一个简单的决策树，再用此树预测全是女性乘客的存活率为100%\n",
    "x_sex=pd.DataFrame(x['Sex'])\n",
    "dec1=DecisionTreeClassifier()\n",
    "dec1.fit(x_sex,y)\n",
    "dec1.predict(x_test_female)"
   ]
  },
  {
   "cell_type": "markdown",
   "metadata": {},
   "source": [
    "#  3.2证明age变量的重要性"
   ]
  },
  {
   "cell_type": "code",
   "execution_count": 210,
   "metadata": {
    "scrolled": true
   },
   "outputs": [
    {
     "data": {
      "text/plain": [
       "array([1, 1, 1, 1, 1, 1, 1, 1, 1, 1, 1, 1, 1, 1, 1, 1, 1, 1, 1, 1, 1, 1,\n",
       "       1, 1, 1, 1, 1, 1, 1, 1, 1, 1, 1, 1, 1, 1, 1, 1, 1, 1, 1, 1, 1, 1,\n",
       "       1, 1, 1, 1, 1, 1, 1, 1, 1, 1, 1, 1, 1, 1, 1, 1, 1, 1, 1, 1, 1, 1,\n",
       "       1, 1, 1, 1, 1, 1, 1, 1, 1, 1, 1, 1, 1, 1, 1, 1, 1, 1, 1, 1, 1, 1,\n",
       "       1, 1, 1, 1, 1, 1, 1, 1, 1, 1, 1, 1])"
      ]
     },
     "execution_count": 210,
     "metadata": {},
     "output_type": "execute_result"
    }
   ],
   "source": [
    "##思路：利用age训练模型，再对全是儿童与全是成人的乘客进行预测\n",
    "#生成新的列age_bb，成年记为1，儿童记为0\n",
    "age_bb=preprocessing.Binarizer(threshold=18).transform(np.array(x['Age']).reshape(-1,1)).ravel()\n",
    "#生成全是成人以及全是儿童的数据框，观测数=100\n",
    "x_test_kid=pd.DataFrame({'age_b':['0']*100})\n",
    "x_test_adult=pd.DataFrame({'age_b':['1']*100})\n",
    "##单独用age_bb建立一个简单决策树，再用此树预测全是儿童的乘客存活率为100%\n",
    "x_age=pd.DataFrame(age_bb)\n",
    "dec2=DecisionTreeClassifier()\n",
    "dec2.fit(x_age,y)\n",
    "dec2.predict(x_test_kid)"
   ]
  },
  {
   "cell_type": "markdown",
   "metadata": {},
   "source": [
    "以上可以证明：women and children(18岁以下) first\n",
    "也就是说女性与儿童乘客存活率更高"
   ]
  },
  {
   "cell_type": "markdown",
   "metadata": {},
   "source": [
    "# 4决策树(考虑sex,pclass,fare)准确率=83%"
   ]
  },
  {
   "cell_type": "code",
   "execution_count": 230,
   "metadata": {},
   "outputs": [],
   "source": [
    "##数据预处理，将fare变量处理成数值型数据\n",
    "#对于fare_b列，1代表10美元一下，2代表10-20，3代表20-30，4代表30美元以上\n",
    "data['fare_b']=pd.cut(data.Fare,[min(data.Fare)-1,10,20,30,max(data.Fare)+1],labels=[1,2,3,4])\n",
    "fare_bb=[]\n",
    "for i in data['fare_b']:\n",
    "    j=int(i)\n",
    "    fare_bb.append(j)\n",
    "data['fare_b']=fare_bb"
   ]
  },
  {
   "cell_type": "code",
   "execution_count": 231,
   "metadata": {},
   "outputs": [
    {
     "name": "stdout",
     "output_type": "stream",
     "text": [
      "预测准确率: 0.8340807174887892\n"
     ]
    },
    {
     "data": {
      "text/plain": [
       "array([0, 0, 0, 1, 0, 0, 0, 0, 0, 1, 1, 0, 1, 1, 0, 0, 0, 1, 0, 0, 0, 0,\n",
       "       0, 0, 0, 1, 0, 0, 0, 0, 1, 0, 0, 0, 0, 1, 0, 1, 0, 1, 0, 0, 1, 0,\n",
       "       1, 1, 0, 0, 0, 1, 1, 1, 0, 0, 1, 0, 0, 1, 0, 0, 0, 0, 1, 0, 0, 0,\n",
       "       0, 0, 0, 1, 0, 1, 1, 0, 0, 0, 0, 0, 1, 0, 0, 0, 0, 0, 0, 0, 0, 0,\n",
       "       0, 0, 0, 1, 0, 0, 0, 0, 0, 0, 0, 0, 0, 0, 0, 0, 1, 0, 0, 0, 0, 0,\n",
       "       0, 0, 0, 0, 1, 0, 0, 0, 1, 1, 0, 1, 0, 1, 1, 0, 0, 0, 0, 0, 0, 0,\n",
       "       0, 0, 0, 1, 0, 0, 0, 0, 0, 0, 1, 0, 1, 0, 0, 0, 0, 0, 1, 0, 1, 0,\n",
       "       0, 0, 0, 0, 0, 0, 0, 0, 0, 1, 1, 0, 0, 1, 1, 0, 0, 0, 1, 1, 0, 1,\n",
       "       0, 0, 0, 0, 0, 0, 1, 0, 0, 0, 1, 0, 0, 0, 0, 0, 0, 0, 1, 0, 0, 0,\n",
       "       1, 1, 0, 1, 0, 0, 1, 1, 1, 0, 1, 0, 1, 0, 0, 0, 1, 1, 0, 0, 0, 1,\n",
       "       0, 0, 0])"
      ]
     },
     "execution_count": 231,
     "metadata": {},
     "output_type": "execute_result"
    }
   ],
   "source": [
    "##考虑变量sex,pclass,fare变量建树，预测准确率达到83%，高于只考虑sex与age，说明pclass与fare变量对生存率有影响\n",
    "x1=data[['Sex','Pclass','fare_b']]\n",
    "##训练集测试集，测试集比例为25%\n",
    "x1_train,x1_test,y_train,y_test=train_test_split(x1,y,test_size=0.25,random_state=123)\n",
    "dec3=DecisionTreeClassifier()\n",
    "dec3.fit(x1_train,y_train)\n",
    "print('预测准确率:',dec3.score(x1_test,y_test))\n",
    "#返回预测结果\n",
    "dec3.predict(x1_test)"
   ]
  },
  {
   "cell_type": "markdown",
   "metadata": {},
   "source": [
    "# 5.单棵决策树（预测准确率为 83%）"
   ]
  },
  {
   "cell_type": "code",
   "execution_count": 272,
   "metadata": {
    "scrolled": true
   },
   "outputs": [
    {
     "name": "stdout",
     "output_type": "stream",
     "text": [
      "预测准确率: 0.8340807174887892\n"
     ]
    },
    {
     "name": "stderr",
     "output_type": "stream",
     "text": [
      "/anaconda3/lib/python3.6/site-packages/pandas/core/indexing.py:543: SettingWithCopyWarning: \n",
      "A value is trying to be set on a copy of a slice from a DataFrame.\n",
      "Try using .loc[row_indexer,col_indexer] = value instead\n",
      "\n",
      "See the caveats in the documentation: http://pandas.pydata.org/pandas-docs/stable/indexing.html#indexing-view-versus-copy\n",
      "  self.obj[item] = s\n"
     ]
    }
   ],
   "source": [
    "##生成包含'Pclass','Sex','Age','SibSp','Parch','Fare','Embarked'变量列的数据框\n",
    "data1=data[['Pclass','Sex','Age','SibSp','Parch','Fare','Embarked']]\n",
    "#将Embarked变量列转换为数值型变量\n",
    "data1.loc[data1['Embarked']=='S','Embarked']=1\n",
    "data1.loc[data1['Embarked']=='C','Embarked']=2\n",
    "data1.loc[data1['Embarked']=='Q','Embarked']=3\n",
    "data1_train,data1_test,y_train,y_test=train_test_split(data1,y,test_size=0.25,random_state=123)\n",
    "#经过模型预剪枝以及后剪枝处理得到最优高度=6\n",
    "dt=DecisionTreeClassifier(max_depth=6,random_state=12)\n",
    "dt.fit(data1_train,y_train)\n",
    "print('预测准确率:',dt.score(data1_test,y_test))"
   ]
  },
  {
   "cell_type": "markdown",
   "metadata": {},
   "source": [
    "# 6.Bagging（预测准确率为79%）"
   ]
  },
  {
   "cell_type": "code",
   "execution_count": 274,
   "metadata": {},
   "outputs": [
    {
     "name": "stdout",
     "output_type": "stream",
     "text": [
      "预测准确率: 0.7892376681614349\n"
     ]
    }
   ],
   "source": [
    "from sklearn.ensemble import BaggingClassifier\n",
    "bag=BaggingClassifier(random_state=12)\n",
    "bag.fit(data1_train,y_train)\n",
    "print('预测准确率:',bag.score(data1_test,y_test))"
   ]
  },
  {
   "cell_type": "markdown",
   "metadata": {},
   "source": [
    "# 7.AdaBoost（预测准确率为82%）"
   ]
  },
  {
   "cell_type": "code",
   "execution_count": 275,
   "metadata": {},
   "outputs": [
    {
     "name": "stdout",
     "output_type": "stream",
     "text": [
      "预测准确率: 0.8161434977578476\n"
     ]
    }
   ],
   "source": [
    "from sklearn.ensemble import AdaBoostClassifier\n",
    "ada=AdaBoostClassifier(random_state=12)\n",
    "ada.fit(data1_train,y_train)\n",
    "print('预测准确率:',ada.score(data1_test,y_test))"
   ]
  },
  {
   "cell_type": "markdown",
   "metadata": {},
   "source": [
    "# 8.随机森林（预测准确率为84%）"
   ]
  },
  {
   "cell_type": "code",
   "execution_count": 276,
   "metadata": {},
   "outputs": [
    {
     "name": "stdout",
     "output_type": "stream",
     "text": [
      "预测准确率: 0.8385650224215246\n"
     ]
    }
   ],
   "source": [
    "from sklearn.ensemble import RandomForestClassifier\n",
    "##采用最大树深度为6\n",
    "rf=RandomForestClassifier(n_estimators=100,max_depth=6,random_state=12)\n",
    "rf.fit(data1_train,y_train)\n",
    "print('预测准确率:',rf.score(data1_test,y_test))"
   ]
  },
  {
   "cell_type": "markdown",
   "metadata": {},
   "source": [
    "# GBDT（预测准确率为83%）"
   ]
  },
  {
   "cell_type": "code",
   "execution_count": 277,
   "metadata": {},
   "outputs": [
    {
     "name": "stdout",
     "output_type": "stream",
     "text": [
      "预测准确率: 0.8295964125560538\n"
     ]
    }
   ],
   "source": [
    "from sklearn.ensemble import GradientBoostingClassifier\n",
    "##采用最大树深度为6\n",
    "gbdt=GradientBoostingClassifier(random_state=12,max_depth=6)\n",
    "gbdt.fit(data1_train,y_train)\n",
    "print('预测准确率:',gbdt.score(data1_test,y_test))"
   ]
  }
 ],
 "metadata": {
  "celltoolbar": "Raw Cell Format",
  "kernelspec": {
   "display_name": "Python 3",
   "language": "python",
   "name": "python3"
  },
  "language_info": {
   "codemirror_mode": {
    "name": "ipython",
    "version": 3
   },
   "file_extension": ".py",
   "mimetype": "text/x-python",
   "name": "python",
   "nbconvert_exporter": "python",
   "pygments_lexer": "ipython3",
   "version": "3.6.6"
  }
 },
 "nbformat": 4,
 "nbformat_minor": 2
}
